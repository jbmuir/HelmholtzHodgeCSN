{
 "cells": [
  {
   "cell_type": "code",
   "execution_count": 1,
   "metadata": {},
   "outputs": [
    {
     "name": "stderr",
     "output_type": "stream",
     "text": [
      "┌ Info: Precompiling JuMP [4076af6c-e467-56ae-b986-b466b2749572]\n",
      "└ @ Base loading.jl:1273\n"
     ]
    }
   ],
   "source": [
    "using JuMP, Ipopt\n",
    "using Plots\n",
    "using NPZ"
   ]
  },
  {
   "cell_type": "code",
   "execution_count": 2,
   "metadata": {},
   "outputs": [
    {
     "data": {
      "text/plain": [
       "12×2 Array{Float64,2}:\n",
       " 376.341  3767.73\n",
       " 383.363  3754.98\n",
       " 391.048  3756.27\n",
       " 391.553  3758.36\n",
       " 393.08   3765.72\n",
       " 393.106  3773.38\n",
       " 391.876  3775.99\n",
       " 389.422  3778.2 \n",
       " 388.141  3777.91\n",
       " 383.079  3776.47\n",
       " 378.186  3774.68\n",
       " 376.389  3773.96"
      ]
     },
     "execution_count": 2,
     "metadata": {},
     "output_type": "execute_result"
    }
   ],
   "source": [
    "hull_points = npzread(\"Scratch/convex_hull_points.npy\")"
   ]
  },
  {
   "cell_type": "code",
   "execution_count": 3,
   "metadata": {},
   "outputs": [
    {
     "data": {
      "text/plain": [
       "575.9954223700707"
      ]
     },
     "execution_count": 3,
     "metadata": {},
     "output_type": "execute_result"
    }
   ],
   "source": [
    "x = hull_points[:,1]\n",
    "y = hull_points[:,2]\n",
    "md2 = maximum((x.-x').^2 .+ (y.-y').^2)"
   ]
  },
  {
   "cell_type": "code",
   "execution_count": 4,
   "metadata": {},
   "outputs": [
    {
     "data": {
      "image/svg+xml": [
       "<?xml version=\"1.0\" encoding=\"utf-8\"?>\n",
       "<svg xmlns=\"http://www.w3.org/2000/svg\" xmlns:xlink=\"http://www.w3.org/1999/xlink\" width=\"600\" height=\"400\" viewBox=\"0 0 2400 1600\">\n",
       "<defs>\n",
       "  <clipPath id=\"clip1300\">\n",
       "    <rect x=\"0\" y=\"0\" width=\"2400\" height=\"1600\"/>\n",
       "  </clipPath>\n",
       "</defs>\n",
       "<path clip-path=\"url(#clip1300)\" d=\"\n",
       "M0 1600 L2400 1600 L2400 0 L0 0  Z\n",
       "  \" fill=\"#ffffff\" fill-rule=\"evenodd\" fill-opacity=\"1\"/>\n",
       "<defs>\n",
       "  <clipPath id=\"clip1301\">\n",
       "    <rect x=\"480\" y=\"0\" width=\"1681\" height=\"1600\"/>\n",
       "  </clipPath>\n",
       "</defs>\n",
       "<path clip-path=\"url(#clip1300)\" d=\"\n",
       "M194.041 1487.47 L2352.76 1487.47 L2352.76 47.2441 L194.041 47.2441  Z\n",
       "  \" fill=\"#ffffff\" fill-rule=\"evenodd\" fill-opacity=\"1\"/>\n",
       "<defs>\n",
       "  <clipPath id=\"clip1302\">\n",
       "    <rect x=\"194\" y=\"47\" width=\"2160\" height=\"1441\"/>\n",
       "  </clipPath>\n",
       "</defs>\n",
       "<polyline clip-path=\"url(#clip1302)\" style=\"stroke:#000000; stroke-width:2; stroke-opacity:0.1; fill:none\" points=\"\n",
       "  699.594,1487.47 699.594,47.2441 \n",
       "  \"/>\n",
       "<polyline clip-path=\"url(#clip1302)\" style=\"stroke:#000000; stroke-width:2; stroke-opacity:0.1; fill:none\" points=\"\n",
       "  699.594,1487.47 699.594,47.2441 \n",
       "  \"/>\n",
       "<polyline clip-path=\"url(#clip1302)\" style=\"stroke:#000000; stroke-width:2; stroke-opacity:0.1; fill:none\" points=\"\n",
       "  1306.99,1487.47 1306.99,47.2441 \n",
       "  \"/>\n",
       "<polyline clip-path=\"url(#clip1302)\" style=\"stroke:#000000; stroke-width:2; stroke-opacity:0.1; fill:none\" points=\"\n",
       "  1914.38,1487.47 1914.38,47.2441 \n",
       "  \"/>\n",
       "<polyline clip-path=\"url(#clip1302)\" style=\"stroke:#000000; stroke-width:2; stroke-opacity:0.1; fill:none\" points=\"\n",
       "  194.041,1445.47 2352.76,1445.47 \n",
       "  \"/>\n",
       "<polyline clip-path=\"url(#clip1302)\" style=\"stroke:#000000; stroke-width:2; stroke-opacity:0.1; fill:none\" points=\"\n",
       "  194.041,1152.93 2352.76,1152.93 \n",
       "  \"/>\n",
       "<polyline clip-path=\"url(#clip1302)\" style=\"stroke:#000000; stroke-width:2; stroke-opacity:0.1; fill:none\" points=\"\n",
       "  194.041,860.389 2352.76,860.389 \n",
       "  \"/>\n",
       "<polyline clip-path=\"url(#clip1302)\" style=\"stroke:#000000; stroke-width:2; stroke-opacity:0.1; fill:none\" points=\"\n",
       "  194.041,567.847 2352.76,567.847 \n",
       "  \"/>\n",
       "<polyline clip-path=\"url(#clip1302)\" style=\"stroke:#000000; stroke-width:2; stroke-opacity:0.1; fill:none\" points=\"\n",
       "  194.041,275.305 2352.76,275.305 \n",
       "  \"/>\n",
       "<polyline clip-path=\"url(#clip1300)\" style=\"stroke:#000000; stroke-width:4; stroke-opacity:1; fill:none\" points=\"\n",
       "  194.041,1487.47 2352.76,1487.47 \n",
       "  \"/>\n",
       "<polyline clip-path=\"url(#clip1300)\" style=\"stroke:#000000; stroke-width:4; stroke-opacity:1; fill:none\" points=\"\n",
       "  194.041,1487.47 194.041,47.2441 \n",
       "  \"/>\n",
       "<polyline clip-path=\"url(#clip1300)\" style=\"stroke:#000000; stroke-width:4; stroke-opacity:1; fill:none\" points=\"\n",
       "  699.594,1487.47 699.594,1470.19 \n",
       "  \"/>\n",
       "<polyline clip-path=\"url(#clip1300)\" style=\"stroke:#000000; stroke-width:4; stroke-opacity:1; fill:none\" points=\"\n",
       "  699.594,1487.47 699.594,1470.19 \n",
       "  \"/>\n",
       "<polyline clip-path=\"url(#clip1300)\" style=\"stroke:#000000; stroke-width:4; stroke-opacity:1; fill:none\" points=\"\n",
       "  1306.99,1487.47 1306.99,1470.19 \n",
       "  \"/>\n",
       "<polyline clip-path=\"url(#clip1300)\" style=\"stroke:#000000; stroke-width:4; stroke-opacity:1; fill:none\" points=\"\n",
       "  1914.38,1487.47 1914.38,1470.19 \n",
       "  \"/>\n",
       "<polyline clip-path=\"url(#clip1300)\" style=\"stroke:#000000; stroke-width:4; stroke-opacity:1; fill:none\" points=\"\n",
       "  194.041,1445.47 219.946,1445.47 \n",
       "  \"/>\n",
       "<polyline clip-path=\"url(#clip1300)\" style=\"stroke:#000000; stroke-width:4; stroke-opacity:1; fill:none\" points=\"\n",
       "  194.041,1152.93 219.946,1152.93 \n",
       "  \"/>\n",
       "<polyline clip-path=\"url(#clip1300)\" style=\"stroke:#000000; stroke-width:4; stroke-opacity:1; fill:none\" points=\"\n",
       "  194.041,860.389 219.946,860.389 \n",
       "  \"/>\n",
       "<polyline clip-path=\"url(#clip1300)\" style=\"stroke:#000000; stroke-width:4; stroke-opacity:1; fill:none\" points=\"\n",
       "  194.041,567.847 219.946,567.847 \n",
       "  \"/>\n",
       "<polyline clip-path=\"url(#clip1300)\" style=\"stroke:#000000; stroke-width:4; stroke-opacity:1; fill:none\" points=\"\n",
       "  194.041,275.305 219.946,275.305 \n",
       "  \"/>\n",
       "<g clip-path=\"url(#clip1300)\">\n",
       "<text style=\"fill:#000000; fill-opacity:1; font-family:Arial,Helvetica Neue,Helvetica,sans-serif; font-size:48px; text-anchor:middle;\" transform=\"rotate(0, 699.594, 1541.47)\" x=\"699.594\" y=\"1541.47\">380</text>\n",
       "</g>\n",
       "<g clip-path=\"url(#clip1300)\">\n",
       "<text style=\"fill:#000000; fill-opacity:1; font-family:Arial,Helvetica Neue,Helvetica,sans-serif; font-size:48px; text-anchor:middle;\" transform=\"rotate(0, 699.594, 1541.47)\" x=\"699.594\" y=\"1541.47\">380</text>\n",
       "</g>\n",
       "<g clip-path=\"url(#clip1300)\">\n",
       "<text style=\"fill:#000000; fill-opacity:1; font-family:Arial,Helvetica Neue,Helvetica,sans-serif; font-size:48px; text-anchor:middle;\" transform=\"rotate(0, 1306.99, 1541.47)\" x=\"1306.99\" y=\"1541.47\">385</text>\n",
       "</g>\n",
       "<g clip-path=\"url(#clip1300)\">\n",
       "<text style=\"fill:#000000; fill-opacity:1; font-family:Arial,Helvetica Neue,Helvetica,sans-serif; font-size:48px; text-anchor:middle;\" transform=\"rotate(0, 1914.38, 1541.47)\" x=\"1914.38\" y=\"1541.47\">390</text>\n",
       "</g>\n",
       "<g clip-path=\"url(#clip1300)\">\n",
       "<text style=\"fill:#000000; fill-opacity:1; font-family:Arial,Helvetica Neue,Helvetica,sans-serif; font-size:48px; text-anchor:end;\" transform=\"rotate(0, 170.041, 1462.97)\" x=\"170.041\" y=\"1462.97\">3755</text>\n",
       "</g>\n",
       "<g clip-path=\"url(#clip1300)\">\n",
       "<text style=\"fill:#000000; fill-opacity:1; font-family:Arial,Helvetica Neue,Helvetica,sans-serif; font-size:48px; text-anchor:end;\" transform=\"rotate(0, 170.041, 1170.43)\" x=\"170.041\" y=\"1170.43\">3760</text>\n",
       "</g>\n",
       "<g clip-path=\"url(#clip1300)\">\n",
       "<text style=\"fill:#000000; fill-opacity:1; font-family:Arial,Helvetica Neue,Helvetica,sans-serif; font-size:48px; text-anchor:end;\" transform=\"rotate(0, 170.041, 877.889)\" x=\"170.041\" y=\"877.889\">3765</text>\n",
       "</g>\n",
       "<g clip-path=\"url(#clip1300)\">\n",
       "<text style=\"fill:#000000; fill-opacity:1; font-family:Arial,Helvetica Neue,Helvetica,sans-serif; font-size:48px; text-anchor:end;\" transform=\"rotate(0, 170.041, 585.347)\" x=\"170.041\" y=\"585.347\">3770</text>\n",
       "</g>\n",
       "<g clip-path=\"url(#clip1300)\">\n",
       "<text style=\"fill:#000000; fill-opacity:1; font-family:Arial,Helvetica Neue,Helvetica,sans-serif; font-size:48px; text-anchor:end;\" transform=\"rotate(0, 170.041, 292.805)\" x=\"170.041\" y=\"292.805\">3775</text>\n",
       "</g>\n",
       "<circle clip-path=\"url(#clip1302)\" style=\"fill:#000000; stroke:none; fill-opacity:1\" cx=\"255.137\" cy=\"700.382\" r=\"18\"/>\n",
       "<circle clip-path=\"url(#clip1302)\" style=\"fill:#009af9; stroke:none; fill-opacity:1\" cx=\"255.137\" cy=\"700.382\" r=\"14\"/>\n",
       "<circle clip-path=\"url(#clip1302)\" style=\"fill:#000000; stroke:none; fill-opacity:1\" cx=\"1108.07\" cy=\"1446.71\" r=\"18\"/>\n",
       "<circle clip-path=\"url(#clip1302)\" style=\"fill:#009af9; stroke:none; fill-opacity:1\" cx=\"1108.07\" cy=\"1446.71\" r=\"14\"/>\n",
       "<circle clip-path=\"url(#clip1302)\" style=\"fill:#000000; stroke:none; fill-opacity:1\" cx=\"2041.73\" cy=\"1371.17\" r=\"18\"/>\n",
       "<circle clip-path=\"url(#clip1302)\" style=\"fill:#009af9; stroke:none; fill-opacity:1\" cx=\"2041.73\" cy=\"1371.17\" r=\"14\"/>\n",
       "<circle clip-path=\"url(#clip1302)\" style=\"fill:#000000; stroke:none; fill-opacity:1\" cx=\"2103.06\" cy=\"1248.79\" r=\"18\"/>\n",
       "<circle clip-path=\"url(#clip1302)\" style=\"fill:#009af9; stroke:none; fill-opacity:1\" cx=\"2103.06\" cy=\"1248.79\" r=\"14\"/>\n",
       "<circle clip-path=\"url(#clip1302)\" style=\"fill:#000000; stroke:none; fill-opacity:1\" cx=\"2288.57\" cy=\"818.003\" r=\"18\"/>\n",
       "<circle clip-path=\"url(#clip1302)\" style=\"fill:#009af9; stroke:none; fill-opacity:1\" cx=\"2288.57\" cy=\"818.003\" r=\"14\"/>\n",
       "<circle clip-path=\"url(#clip1302)\" style=\"fill:#000000; stroke:none; fill-opacity:1\" cx=\"2291.66\" cy=\"370.175\" r=\"18\"/>\n",
       "<circle clip-path=\"url(#clip1302)\" style=\"fill:#009af9; stroke:none; fill-opacity:1\" cx=\"2291.66\" cy=\"370.175\" r=\"14\"/>\n",
       "<circle clip-path=\"url(#clip1302)\" style=\"fill:#000000; stroke:none; fill-opacity:1\" cx=\"2142.33\" cy=\"217.126\" r=\"18\"/>\n",
       "<circle clip-path=\"url(#clip1302)\" style=\"fill:#009af9; stroke:none; fill-opacity:1\" cx=\"2142.33\" cy=\"217.126\" r=\"14\"/>\n",
       "<circle clip-path=\"url(#clip1302)\" style=\"fill:#000000; stroke:none; fill-opacity:1\" cx=\"1844.13\" cy=\"88.0053\" r=\"18\"/>\n",
       "<circle clip-path=\"url(#clip1302)\" style=\"fill:#009af9; stroke:none; fill-opacity:1\" cx=\"1844.13\" cy=\"88.0053\" r=\"14\"/>\n",
       "<circle clip-path=\"url(#clip1302)\" style=\"fill:#000000; stroke:none; fill-opacity:1\" cx=\"1688.59\" cy=\"104.769\" r=\"18\"/>\n",
       "<circle clip-path=\"url(#clip1302)\" style=\"fill:#009af9; stroke:none; fill-opacity:1\" cx=\"1688.59\" cy=\"104.769\" r=\"14\"/>\n",
       "<circle clip-path=\"url(#clip1302)\" style=\"fill:#000000; stroke:none; fill-opacity:1\" cx=\"1073.58\" cy=\"189.243\" r=\"18\"/>\n",
       "<circle clip-path=\"url(#clip1302)\" style=\"fill:#009af9; stroke:none; fill-opacity:1\" cx=\"1073.58\" cy=\"189.243\" r=\"14\"/>\n",
       "<circle clip-path=\"url(#clip1302)\" style=\"fill:#000000; stroke:none; fill-opacity:1\" cx=\"479.18\" cy=\"294.285\" r=\"18\"/>\n",
       "<circle clip-path=\"url(#clip1302)\" style=\"fill:#009af9; stroke:none; fill-opacity:1\" cx=\"479.18\" cy=\"294.285\" r=\"14\"/>\n",
       "<circle clip-path=\"url(#clip1302)\" style=\"fill:#000000; stroke:none; fill-opacity:1\" cx=\"260.943\" cy=\"336.038\" r=\"18\"/>\n",
       "<circle clip-path=\"url(#clip1302)\" style=\"fill:#009af9; stroke:none; fill-opacity:1\" cx=\"260.943\" cy=\"336.038\" r=\"14\"/>\n",
       "<path clip-path=\"url(#clip1300)\" d=\"\n",
       "M1989.93 251.724 L2280.76 251.724 L2280.76 130.764 L1989.93 130.764  Z\n",
       "  \" fill=\"#ffffff\" fill-rule=\"evenodd\" fill-opacity=\"1\"/>\n",
       "<polyline clip-path=\"url(#clip1300)\" style=\"stroke:#000000; stroke-width:4; stroke-opacity:1; fill:none\" points=\"\n",
       "  1989.93,251.724 2280.76,251.724 2280.76,130.764 1989.93,130.764 1989.93,251.724 \n",
       "  \"/>\n",
       "<circle clip-path=\"url(#clip1300)\" style=\"fill:#000000; stroke:none; fill-opacity:1\" cx=\"2097.93\" cy=\"191.244\" r=\"25\"/>\n",
       "<circle clip-path=\"url(#clip1300)\" style=\"fill:#009af9; stroke:none; fill-opacity:1\" cx=\"2097.93\" cy=\"191.244\" r=\"21\"/>\n",
       "<g clip-path=\"url(#clip1300)\">\n",
       "<text style=\"fill:#000000; fill-opacity:1; font-family:Arial,Helvetica Neue,Helvetica,sans-serif; font-size:48px; text-anchor:start;\" transform=\"rotate(0, 2181.93, 208.744)\" x=\"2181.93\" y=\"208.744\">y1</text>\n",
       "</g>\n",
       "</svg>\n"
      ]
     },
     "execution_count": 4,
     "metadata": {},
     "output_type": "execute_result"
    }
   ],
   "source": [
    "scatter(x,y)"
   ]
  },
  {
   "cell_type": "code",
   "execution_count": 52,
   "metadata": {},
   "outputs": [
    {
     "data": {
      "text/latex": [
       "$$ \\begin{alignat*}{1}\\text{feasibility}\\\\\n",
       "\\text{Subject to} \\quad\\end{alignat*}\n",
       " $$"
      ],
      "text/plain": [
       "A JuMP Model\n",
       "Feasibility problem with:\n",
       "Variables: 0\n",
       "Model mode: AUTOMATIC\n",
       "CachingOptimizer state: EMPTY_OPTIMIZER\n",
       "Solver name: Ipopt"
      ]
     },
     "execution_count": 52,
     "metadata": {},
     "output_type": "execute_result"
    }
   ],
   "source": [
    "model = Model(with_optimizer(Ipopt.Optimizer))"
   ]
  },
  {
   "cell_type": "code",
   "execution_count": 53,
   "metadata": {},
   "outputs": [
    {
     "data": {
      "text/plain": [
       "2-element Array{Nothing,1}:\n",
       " nothing\n",
       " nothing"
      ]
     },
     "execution_count": 53,
     "metadata": {},
     "output_type": "execute_result"
    }
   ],
   "source": [
    "@variable(model, x1[1:2])\n",
    "@variable(model, x2[1:2])\n",
    "@variable(model, x3[1:2])\n",
    "@variable(model, x4[1:2])\n",
    "set_start_value.(x1, [minimum(x), minimum(y)])\n",
    "set_start_value.(x2, [minimum(x), maximum(y)])\n",
    "set_start_value.(x3, [maximum(x), maximum(y)])\n",
    "set_start_value.(x4, [maximum(x), minimum(y)])"
   ]
  },
  {
   "cell_type": "code",
   "execution_count": 54,
   "metadata": {},
   "outputs": [
    {
     "data": {
      "text/latex": [
       "$ x1_{1}^2 - 2 x3_{1}\\times x1_{1} + x3_{1}^2 + x1_{2}^2 - 2 x3_{2}\\times x1_{2} + x3_{2}^2 \\geq 575.9954223700707 $"
      ],
      "text/plain": [
       "x1[1]² - 2 x3[1]*x1[1] + x3[1]² + x1[2]² - 2 x3[2]*x1[2] + x3[2]² ≥ 575.9954223700707"
      ]
     },
     "execution_count": 54,
     "metadata": {},
     "output_type": "execute_result"
    }
   ],
   "source": [
    "#90 degree corners\n",
    "@constraint(model, (x2-x1)' * (x3-x2) == 0)\n",
    "@constraint(model, (x3-x2)' * (x4-x3) == 0)\n",
    "@constraint(model, (x4-x3)' * (x1-x4) == 0)\n",
    "@constraint(model, (x1-x4)' * (x2-x1) == 0)\n",
    "# diagonals meet at 90 degrees (for square)\n",
    "# @constraint(model, (x1-x3)' * (x2-x4) == 0)\n",
    "# side length ratio (for rectangle)\n",
    "ratio = 1\n",
    "@constraint(model, ratio^2*(x1-x2)' * (x1-x2) - (x3-x2)' * (x3-x2) == 0)\n",
    "@constraint(model, (x1-x3)' * (x1-x3) >= md2) #5% padding for interpolation"
   ]
  },
  {
   "cell_type": "code",
   "execution_count": 55,
   "metadata": {},
   "outputs": [],
   "source": [
    "for (xp, yp) in zip(x,y)\n",
    "    p = [xp, yp]\n",
    "    @constraint(model,  (x2[1]-x1[1])' * (p[2]-x1[2]) - (x2[2]-x1[2])' * (p[1]-x1[1])  <= -md2*0.1^2) #10% padding\n",
    "    @constraint(model,  (x3[1]-x2[1])' * (p[2]-x2[2]) - (x3[2]-x2[2])' * (p[1]-x2[1])  <= -md2*0.1^2)\n",
    "    @constraint(model,  (x4[1]-x3[1])' * (p[2]-x3[2]) - (x4[2]-x3[2])' * (p[1]-x3[1])  <= -md2*0.1^2)\n",
    "    @constraint(model,  (x1[1]-x4[1])' * (p[2]-x4[2]) - (x1[2]-x4[2])' * (p[1]-x4[1])  <= -md2*0.1^2)\n",
    "end"
   ]
  },
  {
   "cell_type": "code",
   "execution_count": 56,
   "metadata": {},
   "outputs": [
    {
     "data": {
      "text/latex": [
       "$$ x3_{1}^2 - 2 x1_{1}\\times x3_{1} + x1_{1}^2 + x3_{2}^2 - 2 x1_{2}\\times x3_{2} + x1_{2}^2 $$"
      ],
      "text/plain": [
       "x3[1]² - 2 x1[1]*x3[1] + x1[1]² + x3[2]² - 2 x1[2]*x3[2] + x1[2]²"
      ]
     },
     "execution_count": 56,
     "metadata": {},
     "output_type": "execute_result"
    }
   ],
   "source": [
    "@objective(model, Min, (x3-x1)' * (x3-x1))"
   ]
  },
  {
   "cell_type": "code",
   "execution_count": 57,
   "metadata": {},
   "outputs": [
    {
     "name": "stdout",
     "output_type": "stream",
     "text": [
      "This is Ipopt version 3.12.10, running with linear solver mumps.\n",
      "NOTE: Other linear solvers might be more efficient (see Ipopt documentation).\n",
      "\n",
      "Number of nonzeros in equality constraint Jacobian...:       70\n",
      "Number of nonzeros in inequality constraint Jacobian.:      488\n",
      "Number of nonzeros in Lagrangian Hessian.............:      198\n",
      "\n",
      "Total number of variables............................:        8\n",
      "                     variables with only lower bounds:        0\n",
      "                variables with lower and upper bounds:        0\n",
      "                     variables with only upper bounds:        0\n",
      "Total number of equality constraints.................:        5\n",
      "Total number of inequality constraints...............:       49\n",
      "        inequality constraints with only lower bounds:        1\n",
      "   inequality constraints with lower and upper bounds:        0\n",
      "        inequality constraints with only upper bounds:       48\n",
      "\n",
      "iter    objective    inf_pr   inf_du lg(mu)  ||d||  lg(rg) alpha_du alpha_pr  ls\n",
      "   0  8.2032749e+02 2.58e+02 4.64e+01  -1.0 0.00e+00    -  0.00e+00 0.00e+00   0\n",
      "   1  8.1887445e+02 2.57e+02 4.61e+01  -1.0 4.38e+00    -  2.74e-02 6.73e-03f  1\n",
      "   2  8.1920306e+02 2.51e+02 4.52e+01  -1.0 9.96e+00    -  8.24e-03 2.06e-02h  1\n",
      "   3  8.2327997e+02 2.35e+02 4.19e+01  -1.0 9.93e+00    -  1.97e-02 6.65e-02h  3\n",
      "   4  8.2478537e+02 2.17e+02 3.86e+01  -1.0 8.69e+00    -  1.75e-01 7.58e-02h  2\n",
      "   5  8.2018780e+02 1.94e+02 3.40e+01  -1.0 8.61e+00    -  1.69e-01 1.11e-01f  1\n",
      "   6  8.2401028e+02 1.89e+02 3.51e+01  -1.0 3.44e+00    -  2.94e-02 2.39e-02h  1\n",
      "   7  9.0977718e+02 9.31e+01 1.67e+01  -1.0 4.29e+00    -  4.18e-01 4.78e-01h  1\n",
      "   8  9.1075410e+02 9.20e+01 4.39e+01  -1.0 1.57e+00    -  1.23e-01 1.12e-02h  1\n",
      "   9  9.3030559e+02 7.07e+01 8.97e+01  -1.0 2.42e+00    -  1.02e-01 2.30e-01h  1\n",
      "iter    objective    inf_pr   inf_du lg(mu)  ||d||  lg(rg) alpha_du alpha_pr  ls\n",
      "  10  9.3057695e+02 6.99e+01 9.01e+01  -1.0 1.14e+01    -  2.64e-03 1.03e-02f  5\n",
      "  11  9.7797154e+02 1.50e+01 3.66e+01  -1.0 1.75e+00   0.0 2.37e-01 7.69e-01h  1\n",
      "  12  9.7834684e+02 5.22e+00 1.36e+01  -1.0 1.11e+00   0.4 5.91e-01 6.46e-01h  1\n",
      "  13  9.7827730e+02 5.12e+00 9.80e+01  -1.7 5.45e-01    -  9.73e-01 2.09e-02h  1\n",
      "  14  9.7957779e+02 4.29e-01 7.45e+00  -2.5 1.92e-01    -  1.00e+00 9.17e-01h  1\n",
      "  15  9.7970687e+02 1.31e-05 5.67e-03  -3.8 4.42e-02    -  1.00e+00 1.00e+00h  1\n",
      "  16  9.7970651e+02 2.72e-06 1.71e-04  -5.7 1.64e-02    -  1.00e+00 1.00e+00h  1\n",
      "  17  9.7970651e+02 7.90e-07 2.43e-04  -8.6 4.46e-02    -  9.84e-01 1.00e+00h  1\n",
      "  18  9.7970651e+02 2.35e-07 7.19e-05  -8.6 2.75e-01    -  1.00e+00 1.00e+00h  1\n",
      "  19  9.7970651e+02 5.77e-08 2.34e-04  -9.0 9.36e-09  -0.1 1.00e+00 1.00e+00h  1\n",
      "\n",
      "Number of Iterations....: 19\n",
      "\n",
      "                                   (scaled)                 (unscaled)\n",
      "Objective...............:   9.7970651312172413e+02    9.7970651312172413e+02\n",
      "Dual infeasibility......:   2.3442017007369031e-04    2.3442017007369031e-04\n",
      "Constraint violation....:   7.6414669166928804e-10    5.7741999626159668e-08\n",
      "Complementarity.........:   9.0909444571338565e-10    9.0909444571338565e-10\n",
      "Overall NLP error.......:   9.0909444571338565e-10    2.3442017007369031e-04\n",
      "\n",
      "\n",
      "Number of objective function evaluations             = 33\n",
      "Number of objective gradient evaluations             = 20\n",
      "Number of equality constraint evaluations            = 33\n",
      "Number of inequality constraint evaluations          = 33\n",
      "Number of equality constraint Jacobian evaluations   = 20\n",
      "Number of inequality constraint Jacobian evaluations = 20\n",
      "Number of Lagrangian Hessian evaluations             = 19\n",
      "Total CPU secs in IPOPT (w/o function evaluations)   =      0.015\n",
      "Total CPU secs in NLP function evaluations           =      0.000\n",
      "\n",
      "EXIT: Optimal Solution Found.\n"
     ]
    }
   ],
   "source": [
    "optimize!(model)"
   ]
  },
  {
   "cell_type": "code",
   "execution_count": 58,
   "metadata": {},
   "outputs": [
    {
     "data": {
      "text/plain": [
       "LOCALLY_SOLVED::TerminationStatusCode = 4"
      ]
     },
     "execution_count": 58,
     "metadata": {},
     "output_type": "execute_result"
    }
   ],
   "source": [
    "termination_status(model)"
   ]
  },
  {
   "cell_type": "code",
   "execution_count": 59,
   "metadata": {},
   "outputs": [
    {
     "data": {
      "text/plain": [
       "979.7065131217241"
      ]
     },
     "execution_count": 59,
     "metadata": {},
     "output_type": "execute_result"
    }
   ],
   "source": [
    "objective_value(model)"
   ]
  },
  {
   "cell_type": "code",
   "execution_count": 60,
   "metadata": {},
   "outputs": [
    {
     "data": {
      "text/plain": [
       "5-element Array{Float64,1}:\n",
       " 3752.088802846149 \n",
       " 3773.3728609223413\n",
       " 3779.442632612577 \n",
       " 3758.158574533416 \n",
       " 3752.088802846149 "
      ]
     },
     "execution_count": 60,
     "metadata": {},
     "output_type": "execute_result"
    }
   ],
   "source": [
    "corners = [value.(x1) value.(x2) value.(x3) value.(x4)]\n",
    "xc = corners[1,:]\n",
    "yc = corners[2,:]\n",
    "xcp = [xc; xc[1]]\n",
    "ycp = [yc; yc[1]]"
   ]
  },
  {
   "cell_type": "code",
   "execution_count": 61,
   "metadata": {},
   "outputs": [
    {
     "data": {
      "image/svg+xml": [
       "<?xml version=\"1.0\" encoding=\"utf-8\"?>\n",
       "<svg xmlns=\"http://www.w3.org/2000/svg\" xmlns:xlink=\"http://www.w3.org/1999/xlink\" width=\"600\" height=\"400\" viewBox=\"0 0 2400 1600\">\n",
       "<defs>\n",
       "  <clipPath id=\"clip3300\">\n",
       "    <rect x=\"0\" y=\"0\" width=\"2400\" height=\"1600\"/>\n",
       "  </clipPath>\n",
       "</defs>\n",
       "<path clip-path=\"url(#clip3300)\" d=\"\n",
       "M0 1600 L2400 1600 L2400 0 L0 0  Z\n",
       "  \" fill=\"#ffffff\" fill-rule=\"evenodd\" fill-opacity=\"1\"/>\n",
       "<defs>\n",
       "  <clipPath id=\"clip3301\">\n",
       "    <rect x=\"480\" y=\"0\" width=\"1681\" height=\"1600\"/>\n",
       "  </clipPath>\n",
       "</defs>\n",
       "<path clip-path=\"url(#clip3300)\" d=\"\n",
       "M194.041 1487.47 L2352.76 1487.47 L2352.76 47.2441 L194.041 47.2441  Z\n",
       "  \" fill=\"#ffffff\" fill-rule=\"evenodd\" fill-opacity=\"1\"/>\n",
       "<defs>\n",
       "  <clipPath id=\"clip3302\">\n",
       "    <rect x=\"194\" y=\"47\" width=\"2160\" height=\"1441\"/>\n",
       "  </clipPath>\n",
       "</defs>\n",
       "<polyline clip-path=\"url(#clip3302)\" style=\"stroke:#000000; stroke-width:2; stroke-opacity:0.1; fill:none\" points=\"\n",
       "  531.16,1487.47 531.16,47.2441 \n",
       "  \"/>\n",
       "<polyline clip-path=\"url(#clip3302)\" style=\"stroke:#000000; stroke-width:2; stroke-opacity:0.1; fill:none\" points=\"\n",
       "  1027.88,1487.47 1027.88,47.2441 \n",
       "  \"/>\n",
       "<polyline clip-path=\"url(#clip3302)\" style=\"stroke:#000000; stroke-width:2; stroke-opacity:0.1; fill:none\" points=\"\n",
       "  1524.59,1487.47 1524.59,47.2441 \n",
       "  \"/>\n",
       "<polyline clip-path=\"url(#clip3302)\" style=\"stroke:#000000; stroke-width:2; stroke-opacity:0.1; fill:none\" points=\"\n",
       "  2021.31,1487.47 2021.31,47.2441 \n",
       "  \"/>\n",
       "<polyline clip-path=\"url(#clip3302)\" style=\"stroke:#000000; stroke-width:2; stroke-opacity:0.1; fill:none\" points=\"\n",
       "  194.041,1302.11 2352.76,1302.11 \n",
       "  \"/>\n",
       "<polyline clip-path=\"url(#clip3302)\" style=\"stroke:#000000; stroke-width:2; stroke-opacity:0.1; fill:none\" points=\"\n",
       "  194.041,1053.75 2352.76,1053.75 \n",
       "  \"/>\n",
       "<polyline clip-path=\"url(#clip3302)\" style=\"stroke:#000000; stroke-width:2; stroke-opacity:0.1; fill:none\" points=\"\n",
       "  194.041,805.394 2352.76,805.394 \n",
       "  \"/>\n",
       "<polyline clip-path=\"url(#clip3302)\" style=\"stroke:#000000; stroke-width:2; stroke-opacity:0.1; fill:none\" points=\"\n",
       "  194.041,557.036 2352.76,557.036 \n",
       "  \"/>\n",
       "<polyline clip-path=\"url(#clip3302)\" style=\"stroke:#000000; stroke-width:2; stroke-opacity:0.1; fill:none\" points=\"\n",
       "  194.041,308.678 2352.76,308.678 \n",
       "  \"/>\n",
       "<polyline clip-path=\"url(#clip3302)\" style=\"stroke:#000000; stroke-width:2; stroke-opacity:0.1; fill:none\" points=\"\n",
       "  194.041,60.32 2352.76,60.32 \n",
       "  \"/>\n",
       "<polyline clip-path=\"url(#clip3300)\" style=\"stroke:#000000; stroke-width:4; stroke-opacity:1; fill:none\" points=\"\n",
       "  194.041,1487.47 2352.76,1487.47 \n",
       "  \"/>\n",
       "<polyline clip-path=\"url(#clip3300)\" style=\"stroke:#000000; stroke-width:4; stroke-opacity:1; fill:none\" points=\"\n",
       "  194.041,1487.47 194.041,47.2441 \n",
       "  \"/>\n",
       "<polyline clip-path=\"url(#clip3300)\" style=\"stroke:#000000; stroke-width:4; stroke-opacity:1; fill:none\" points=\"\n",
       "  531.16,1487.47 531.16,1470.19 \n",
       "  \"/>\n",
       "<polyline clip-path=\"url(#clip3300)\" style=\"stroke:#000000; stroke-width:4; stroke-opacity:1; fill:none\" points=\"\n",
       "  1027.88,1487.47 1027.88,1470.19 \n",
       "  \"/>\n",
       "<polyline clip-path=\"url(#clip3300)\" style=\"stroke:#000000; stroke-width:4; stroke-opacity:1; fill:none\" points=\"\n",
       "  1524.59,1487.47 1524.59,1470.19 \n",
       "  \"/>\n",
       "<polyline clip-path=\"url(#clip3300)\" style=\"stroke:#000000; stroke-width:4; stroke-opacity:1; fill:none\" points=\"\n",
       "  2021.31,1487.47 2021.31,1470.19 \n",
       "  \"/>\n",
       "<polyline clip-path=\"url(#clip3300)\" style=\"stroke:#000000; stroke-width:4; stroke-opacity:1; fill:none\" points=\"\n",
       "  194.041,1302.11 219.946,1302.11 \n",
       "  \"/>\n",
       "<polyline clip-path=\"url(#clip3300)\" style=\"stroke:#000000; stroke-width:4; stroke-opacity:1; fill:none\" points=\"\n",
       "  194.041,1053.75 219.946,1053.75 \n",
       "  \"/>\n",
       "<polyline clip-path=\"url(#clip3300)\" style=\"stroke:#000000; stroke-width:4; stroke-opacity:1; fill:none\" points=\"\n",
       "  194.041,805.394 219.946,805.394 \n",
       "  \"/>\n",
       "<polyline clip-path=\"url(#clip3300)\" style=\"stroke:#000000; stroke-width:4; stroke-opacity:1; fill:none\" points=\"\n",
       "  194.041,557.036 219.946,557.036 \n",
       "  \"/>\n",
       "<polyline clip-path=\"url(#clip3300)\" style=\"stroke:#000000; stroke-width:4; stroke-opacity:1; fill:none\" points=\"\n",
       "  194.041,308.678 219.946,308.678 \n",
       "  \"/>\n",
       "<polyline clip-path=\"url(#clip3300)\" style=\"stroke:#000000; stroke-width:4; stroke-opacity:1; fill:none\" points=\"\n",
       "  194.041,60.32 219.946,60.32 \n",
       "  \"/>\n",
       "<g clip-path=\"url(#clip3300)\">\n",
       "<text style=\"fill:#000000; fill-opacity:1; font-family:Arial,Helvetica Neue,Helvetica,sans-serif; font-size:48px; text-anchor:middle;\" transform=\"rotate(0, 531.16, 1541.47)\" x=\"531.16\" y=\"1541.47\">370</text>\n",
       "</g>\n",
       "<g clip-path=\"url(#clip3300)\">\n",
       "<text style=\"fill:#000000; fill-opacity:1; font-family:Arial,Helvetica Neue,Helvetica,sans-serif; font-size:48px; text-anchor:middle;\" transform=\"rotate(0, 1027.88, 1541.47)\" x=\"1027.88\" y=\"1541.47\">380</text>\n",
       "</g>\n",
       "<g clip-path=\"url(#clip3300)\">\n",
       "<text style=\"fill:#000000; fill-opacity:1; font-family:Arial,Helvetica Neue,Helvetica,sans-serif; font-size:48px; text-anchor:middle;\" transform=\"rotate(0, 1524.59, 1541.47)\" x=\"1524.59\" y=\"1541.47\">390</text>\n",
       "</g>\n",
       "<g clip-path=\"url(#clip3300)\">\n",
       "<text style=\"fill:#000000; fill-opacity:1; font-family:Arial,Helvetica Neue,Helvetica,sans-serif; font-size:48px; text-anchor:middle;\" transform=\"rotate(0, 2021.31, 1541.47)\" x=\"2021.31\" y=\"1541.47\">400</text>\n",
       "</g>\n",
       "<g clip-path=\"url(#clip3300)\">\n",
       "<text style=\"fill:#000000; fill-opacity:1; font-family:Arial,Helvetica Neue,Helvetica,sans-serif; font-size:48px; text-anchor:end;\" transform=\"rotate(0, 170.041, 1319.61)\" x=\"170.041\" y=\"1319.61\">3755</text>\n",
       "</g>\n",
       "<g clip-path=\"url(#clip3300)\">\n",
       "<text style=\"fill:#000000; fill-opacity:1; font-family:Arial,Helvetica Neue,Helvetica,sans-serif; font-size:48px; text-anchor:end;\" transform=\"rotate(0, 170.041, 1071.25)\" x=\"170.041\" y=\"1071.25\">3760</text>\n",
       "</g>\n",
       "<g clip-path=\"url(#clip3300)\">\n",
       "<text style=\"fill:#000000; fill-opacity:1; font-family:Arial,Helvetica Neue,Helvetica,sans-serif; font-size:48px; text-anchor:end;\" transform=\"rotate(0, 170.041, 822.894)\" x=\"170.041\" y=\"822.894\">3765</text>\n",
       "</g>\n",
       "<g clip-path=\"url(#clip3300)\">\n",
       "<text style=\"fill:#000000; fill-opacity:1; font-family:Arial,Helvetica Neue,Helvetica,sans-serif; font-size:48px; text-anchor:end;\" transform=\"rotate(0, 170.041, 574.536)\" x=\"170.041\" y=\"574.536\">3770</text>\n",
       "</g>\n",
       "<g clip-path=\"url(#clip3300)\">\n",
       "<text style=\"fill:#000000; fill-opacity:1; font-family:Arial,Helvetica Neue,Helvetica,sans-serif; font-size:48px; text-anchor:end;\" transform=\"rotate(0, 170.041, 326.178)\" x=\"170.041\" y=\"326.178\">3775</text>\n",
       "</g>\n",
       "<g clip-path=\"url(#clip3300)\">\n",
       "<text style=\"fill:#000000; fill-opacity:1; font-family:Arial,Helvetica Neue,Helvetica,sans-serif; font-size:48px; text-anchor:end;\" transform=\"rotate(0, 170.041, 77.82)\" x=\"170.041\" y=\"77.82\">3780</text>\n",
       "</g>\n",
       "<circle clip-path=\"url(#clip3302)\" style=\"fill:#000000; stroke:none; fill-opacity:1\" cx=\"846.141\" cy=\"669.554\" r=\"18\"/>\n",
       "<circle clip-path=\"url(#clip3302)\" style=\"fill:#009af9; stroke:none; fill-opacity:1\" cx=\"846.141\" cy=\"669.554\" r=\"14\"/>\n",
       "<circle clip-path=\"url(#clip3302)\" style=\"fill:#000000; stroke:none; fill-opacity:1\" cx=\"1194.9\" cy=\"1303.16\" r=\"18\"/>\n",
       "<circle clip-path=\"url(#clip3302)\" style=\"fill:#009af9; stroke:none; fill-opacity:1\" cx=\"1194.9\" cy=\"1303.16\" r=\"14\"/>\n",
       "<circle clip-path=\"url(#clip3302)\" style=\"fill:#000000; stroke:none; fill-opacity:1\" cx=\"1576.66\" cy=\"1239.03\" r=\"18\"/>\n",
       "<circle clip-path=\"url(#clip3302)\" style=\"fill:#009af9; stroke:none; fill-opacity:1\" cx=\"1576.66\" cy=\"1239.03\" r=\"14\"/>\n",
       "<circle clip-path=\"url(#clip3302)\" style=\"fill:#000000; stroke:none; fill-opacity:1\" cx=\"1601.74\" cy=\"1135.13\" r=\"18\"/>\n",
       "<circle clip-path=\"url(#clip3302)\" style=\"fill:#009af9; stroke:none; fill-opacity:1\" cx=\"1601.74\" cy=\"1135.13\" r=\"14\"/>\n",
       "<circle clip-path=\"url(#clip3302)\" style=\"fill:#000000; stroke:none; fill-opacity:1\" cx=\"1677.59\" cy=\"769.41\" r=\"18\"/>\n",
       "<circle clip-path=\"url(#clip3302)\" style=\"fill:#009af9; stroke:none; fill-opacity:1\" cx=\"1677.59\" cy=\"769.41\" r=\"14\"/>\n",
       "<circle clip-path=\"url(#clip3302)\" style=\"fill:#000000; stroke:none; fill-opacity:1\" cx=\"1678.86\" cy=\"389.22\" r=\"18\"/>\n",
       "<circle clip-path=\"url(#clip3302)\" style=\"fill:#009af9; stroke:none; fill-opacity:1\" cx=\"1678.86\" cy=\"389.22\" r=\"14\"/>\n",
       "<circle clip-path=\"url(#clip3302)\" style=\"fill:#000000; stroke:none; fill-opacity:1\" cx=\"1617.8\" cy=\"259.286\" r=\"18\"/>\n",
       "<circle clip-path=\"url(#clip3302)\" style=\"fill:#009af9; stroke:none; fill-opacity:1\" cx=\"1617.8\" cy=\"259.286\" r=\"14\"/>\n",
       "<circle clip-path=\"url(#clip3302)\" style=\"fill:#000000; stroke:none; fill-opacity:1\" cx=\"1495.87\" cy=\"149.667\" r=\"18\"/>\n",
       "<circle clip-path=\"url(#clip3302)\" style=\"fill:#009af9; stroke:none; fill-opacity:1\" cx=\"1495.87\" cy=\"149.667\" r=\"14\"/>\n",
       "<circle clip-path=\"url(#clip3302)\" style=\"fill:#000000; stroke:none; fill-opacity:1\" cx=\"1432.27\" cy=\"163.899\" r=\"18\"/>\n",
       "<circle clip-path=\"url(#clip3302)\" style=\"fill:#009af9; stroke:none; fill-opacity:1\" cx=\"1432.27\" cy=\"163.899\" r=\"14\"/>\n",
       "<circle clip-path=\"url(#clip3302)\" style=\"fill:#000000; stroke:none; fill-opacity:1\" cx=\"1180.79\" cy=\"235.614\" r=\"18\"/>\n",
       "<circle clip-path=\"url(#clip3302)\" style=\"fill:#009af9; stroke:none; fill-opacity:1\" cx=\"1180.79\" cy=\"235.614\" r=\"14\"/>\n",
       "<circle clip-path=\"url(#clip3302)\" style=\"fill:#000000; stroke:none; fill-opacity:1\" cx=\"937.75\" cy=\"324.791\" r=\"18\"/>\n",
       "<circle clip-path=\"url(#clip3302)\" style=\"fill:#009af9; stroke:none; fill-opacity:1\" cx=\"937.75\" cy=\"324.791\" r=\"14\"/>\n",
       "<circle clip-path=\"url(#clip3302)\" style=\"fill:#000000; stroke:none; fill-opacity:1\" cx=\"848.515\" cy=\"360.238\" r=\"18\"/>\n",
       "<circle clip-path=\"url(#clip3302)\" style=\"fill:#009af9; stroke:none; fill-opacity:1\" cx=\"848.515\" cy=\"360.238\" r=\"14\"/>\n",
       "<circle clip-path=\"url(#clip3302)\" style=\"fill:#000000; stroke:none; fill-opacity:1\" cx=\"895.54\" cy=\"1446.71\" r=\"18\"/>\n",
       "<circle clip-path=\"url(#clip3302)\" style=\"fill:#e26f46; stroke:none; fill-opacity:1\" cx=\"895.54\" cy=\"1446.71\" r=\"14\"/>\n",
       "<circle clip-path=\"url(#clip3302)\" style=\"fill:#000000; stroke:none; fill-opacity:1\" cx=\"594.045\" cy=\"389.501\" r=\"18\"/>\n",
       "<circle clip-path=\"url(#clip3302)\" style=\"fill:#e26f46; stroke:none; fill-opacity:1\" cx=\"594.045\" cy=\"389.501\" r=\"14\"/>\n",
       "<circle clip-path=\"url(#clip3302)\" style=\"fill:#000000; stroke:none; fill-opacity:1\" cx=\"1651.26\" cy=\"88.0053\" r=\"18\"/>\n",
       "<circle clip-path=\"url(#clip3302)\" style=\"fill:#e26f46; stroke:none; fill-opacity:1\" cx=\"1651.26\" cy=\"88.0053\" r=\"14\"/>\n",
       "<circle clip-path=\"url(#clip3302)\" style=\"fill:#000000; stroke:none; fill-opacity:1\" cx=\"1952.75\" cy=\"1145.22\" r=\"18\"/>\n",
       "<circle clip-path=\"url(#clip3302)\" style=\"fill:#e26f46; stroke:none; fill-opacity:1\" cx=\"1952.75\" cy=\"1145.22\" r=\"14\"/>\n",
       "<polyline clip-path=\"url(#clip3302)\" style=\"stroke:#3da44d; stroke-width:4; stroke-opacity:1; fill:none\" points=\"\n",
       "  895.54,1446.71 594.045,389.501 1651.26,88.0053 1952.75,1145.22 895.54,1446.71 \n",
       "  \"/>\n",
       "<path clip-path=\"url(#clip3300)\" d=\"\n",
       "M1989.93 372.684 L2280.76 372.684 L2280.76 130.764 L1989.93 130.764  Z\n",
       "  \" fill=\"#ffffff\" fill-rule=\"evenodd\" fill-opacity=\"1\"/>\n",
       "<polyline clip-path=\"url(#clip3300)\" style=\"stroke:#000000; stroke-width:4; stroke-opacity:1; fill:none\" points=\"\n",
       "  1989.93,372.684 2280.76,372.684 2280.76,130.764 1989.93,130.764 1989.93,372.684 \n",
       "  \"/>\n",
       "<circle clip-path=\"url(#clip3300)\" style=\"fill:#000000; stroke:none; fill-opacity:1\" cx=\"2097.93\" cy=\"191.244\" r=\"25\"/>\n",
       "<circle clip-path=\"url(#clip3300)\" style=\"fill:#009af9; stroke:none; fill-opacity:1\" cx=\"2097.93\" cy=\"191.244\" r=\"21\"/>\n",
       "<g clip-path=\"url(#clip3300)\">\n",
       "<text style=\"fill:#000000; fill-opacity:1; font-family:Arial,Helvetica Neue,Helvetica,sans-serif; font-size:48px; text-anchor:start;\" transform=\"rotate(0, 2181.93, 208.744)\" x=\"2181.93\" y=\"208.744\">y1</text>\n",
       "</g>\n",
       "<circle clip-path=\"url(#clip3300)\" style=\"fill:#000000; stroke:none; fill-opacity:1\" cx=\"2097.93\" cy=\"251.724\" r=\"25\"/>\n",
       "<circle clip-path=\"url(#clip3300)\" style=\"fill:#e26f46; stroke:none; fill-opacity:1\" cx=\"2097.93\" cy=\"251.724\" r=\"21\"/>\n",
       "<g clip-path=\"url(#clip3300)\">\n",
       "<text style=\"fill:#000000; fill-opacity:1; font-family:Arial,Helvetica Neue,Helvetica,sans-serif; font-size:48px; text-anchor:start;\" transform=\"rotate(0, 2181.93, 269.224)\" x=\"2181.93\" y=\"269.224\">y2</text>\n",
       "</g>\n",
       "<polyline clip-path=\"url(#clip3300)\" style=\"stroke:#3da44d; stroke-width:4; stroke-opacity:1; fill:none\" points=\"\n",
       "  2013.93,312.204 2157.93,312.204 \n",
       "  \"/>\n",
       "<g clip-path=\"url(#clip3300)\">\n",
       "<text style=\"fill:#000000; fill-opacity:1; font-family:Arial,Helvetica Neue,Helvetica,sans-serif; font-size:48px; text-anchor:start;\" transform=\"rotate(0, 2181.93, 329.704)\" x=\"2181.93\" y=\"329.704\">y3</text>\n",
       "</g>\n",
       "</svg>\n"
      ]
     },
     "execution_count": 61,
     "metadata": {},
     "output_type": "execute_result"
    }
   ],
   "source": [
    "scatter(x,y)\n",
    "scatter!(corners[1,:], corners[2,:])\n",
    "plot!(xcp,ycp, aspect_ratio=:equal)"
   ]
  },
  {
   "cell_type": "code",
   "execution_count": 62,
   "metadata": {},
   "outputs": [
    {
     "data": {
      "text/plain": [
       "2×4 Array{Float64,2}:\n",
       "  377.336   371.266   392.55   398.62\n",
       " 3752.09   3773.37   3779.44  3758.16"
      ]
     },
     "execution_count": 62,
     "metadata": {},
     "output_type": "execute_result"
    }
   ],
   "source": [
    "corners"
   ]
  },
  {
   "cell_type": "code",
   "execution_count": 63,
   "metadata": {},
   "outputs": [
    {
     "data": {
      "text/plain": [
       "0.9999999999981881"
      ]
     },
     "execution_count": 63,
     "metadata": {},
     "output_type": "execute_result"
    }
   ],
   "source": [
    "sqrt((corners[:,1].-corners[:,2])' * (corners[:,1].-corners[:,2]) / ((corners[:,3].-corners[:,2])' * (corners[:,3].-corners[:,2])))"
   ]
  },
  {
   "cell_type": "code",
   "execution_count": 64,
   "metadata": {},
   "outputs": [
    {
     "data": {
      "text/plain": [
       "489.85325644239435"
      ]
     },
     "execution_count": 64,
     "metadata": {},
     "output_type": "execute_result"
    }
   ],
   "source": [
    "(corners[:,1].-corners[:,4])' * (corners[:,1].-corners[:,4])"
   ]
  },
  {
   "cell_type": "code",
   "execution_count": 65,
   "metadata": {},
   "outputs": [],
   "source": [
    "npzwrite(\"Scratch/rectangle_corners.npy\", corners)"
   ]
  },
  {
   "cell_type": "code",
   "execution_count": null,
   "metadata": {},
   "outputs": [],
   "source": []
  }
 ],
 "metadata": {
  "@webio": {
   "lastCommId": null,
   "lastKernelId": null
  },
  "kernelspec": {
   "display_name": "Julia 1.5.2",
   "language": "julia",
   "name": "julia-1.5"
  },
  "language_info": {
   "file_extension": ".jl",
   "mimetype": "application/julia",
   "name": "julia",
   "version": "1.5.2"
  }
 },
 "nbformat": 4,
 "nbformat_minor": 4
}
